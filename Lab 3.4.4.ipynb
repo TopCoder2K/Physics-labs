{
 "cells": [
  {
   "cell_type": "markdown",
   "metadata": {},
   "source": [
    "## Лабораторная работа № 3.4.4 (128)\n",
    "### \"Петля гистерезиса (статический метод)\"\n",
    "\n",
    "**Цель работы: исследование кривых намагничивания ферромагнетиков с помощью баллистического гальванометра.**\n",
    "\n",
    "**В работе используются: генератор тока с блоком питания, тороид, соленоид, баллистический гальванометр с осветителм и шкалой, амперметры, магазин сопротивлений, лабораторный автотрансформатор (ЛАТР), разделительный трансформатор.**"
   ]
  },
  {
   "cell_type": "markdown",
   "metadata": {},
   "source": [
    "**Рабочие формулы**:\n",
    "1)\n",
    "$$\\Delta B[T]\\ =\\ \\mu_0(\\frac{d_C}{d_T})^2\\frac{R}{R_1}\\frac{N_{C0}}{N_{T1}}\\frac{N_{C1}}{l_C}\\Delta I_1\\frac{\\Delta x}{\\Delta x_1}$$,где $\\mu_0$ - абсолютная магнитная проницаемость вакуума, $d_C$ и $d_T$ - диаметры попереченых сечений соленоида и сердечника соотв., $R = R_T + R_M + R_0$ и $R_1 = R_C + R_M^{'} + R_0$ - полные сопротивления измерительных цепей тороида и соленоида соотв. ($R_T, R_0, R_C$ - сопротивления тороида, гальванометра, соленоида, $R_T << R_0$), $N_{C1}$, $N_{T1}$ и $N_{C0}$ - число витков измерительных обмоток соленоида и тороида и число витков намагничивающей обмотки соленоида соотв., $l_C$ - длина соленоида, $\\Delta I_1$ - изменение тока в обмотке $N_{C0}$, $\\Delta x$ - отклонение зайчика в делениях, $\\Delta x_1$ - отклонение гавльванометра, возникшее при изменении тока $\\Delta I_1\\ =\\ I_{max}$; $\\mu_{диф} = \\frac{1}{\\mu_0}\\frac{dB}{dH}$ - дифференциальная магнитная проницаемость;\n",
    "\n",
    "\n",
    "2) $H = \\frac{N_{T_0}}{\\pi D}I$, где $N_{T_0}$ - число витков в первичной обмотке тороида, $D$ - средний диаметр тора, $I$ - ток в первичной обмотке. \n",
    "\n",
    "\n",
    "**Схема установки и описание работы**: непонятно"
   ]
  },
  {
   "cell_type": "markdown",
   "metadata": {},
   "source": [
    "**1) Измерение предельной петли**\n",
    "\n",
    "Выполним обход предельной петли гестерезиса, фиксируя значения тока $I$, соответствующее каждой позиции тумблера генератора, и скачки $\\delta x$, соответствующие каждому щелчку. "
   ]
  },
  {
   "cell_type": "code",
   "execution_count": 1,
   "metadata": {},
   "outputs": [],
   "source": [
    "import pandas as pd\n",
    "\n",
    "initial_offset = 6.5\n",
    "\n",
    "I_values_down_f = pd.Series([1.708, 1.208, 0.8704, 0.6231, 0.4357,\n",
    "                             0.3514, 0.305, 0.2765, 0.2553, 0.2348,\n",
    "                             0.2146, 0.1936, 0.1728, 0.1218, 0.0607, 0])\n",
    "delta_x_down_f = pd.Series([6.5, -2.3, -2.0, -2.7, -2.4, 2.2,\n",
    "                            3.7, 4.8, 5.1, 5.1, 5.1,\n",
    "                            5, 4.9, 2.3, 0.9, -0.2])\n",
    "\n",
    "I_values_up_f = pd.Series([0, 0.0609, 0.1224, 0.1738, 0.1945, 0.2157,\n",
    "                           0.2356, 0.2563, 0.2774, 0.3057, 0.3519,\n",
    "                           0.4363, 0.6233, 0.8704, 1.2071, 1.7086])\n",
    "delta_x_up_f = pd.Series([6.5, -2.0, -10.3, -29, -0.2, -2.3,\n",
    "                          -4.0, -6.0, -7.7, -13.7, -25.6,\n",
    "                          -26.4, -25.9, -6.9, -8.0, -5.2])\n",
    "\n",
    "I_values_down_s = pd.Series([1.7086, 1.2071, 0.8703, 0.6228, 0.4353, 0.3507,\n",
    "                            0.3014, 0.2760, 0.2548, 0.2343, 0.2142,\n",
    "                            0.1932, 0.1762, 0.1216, 0.0607, 0])\n",
    "delta_x_down_s = pd.Series([6.5, 14.4, -2.0, -2.4, -2.2, 1.9,\n",
    "                            3.7, 1.7, 5.2, 5.2, 5.1,\n",
    "                            5.0, 5.5, 2.4, 1.0, 0.1])\n",
    "\n",
    "I_values_up_s = pd.Series([0, 0.0608, 0.1222, 0.1734, 0.1942, 0.2152,\n",
    "                           0.2352, 0.2559, 0.277, 0.3053, 0.3512,\n",
    "                           0.436, 0.6237, 0.8702, 1.2072, 1.7086])\n",
    "delta_x_up_s = pd.Series([6.5, -2.2, -9.2, -3.3, -0.3, -2.3,\n",
    "                          -3.7, -6.8, -8.3, -14.9, -27.1,\n",
    "                          -28, -26, -6.9, -8.6, -5.5])\n",
    "\n",
    "delta_x_down_f = -initial_offset + delta_x_down_f\n",
    "delta_x_up_f = -initial_offset + delta_x_up_f\n",
    "delta_x_down_s = initial_offset - delta_x_down_s\n",
    "delta_x_up_s = initial_offset - delta_x_up_s\n",
    "\n",
    "I_values_up_f = -I_values_up_f\n",
    "I_values_down_s = -I_values_down_s\n",
    "\n",
    "table1 = pd.DataFrame({\n",
    "    'I, A': I_values_down_f,\n",
    "    'delta_x, divisions' : delta_x_down_f\n",
    "})\n",
    "\n",
    "table2 = pd.DataFrame({\n",
    "    'I, A': I_values_up_f,\n",
    "    'delta_x, divisions' : delta_x_up_f\n",
    "})\n",
    "\n",
    "table3 = pd.DataFrame({\n",
    "    'I, A': I_values_down_s,\n",
    "    'delta_x, divisions' : delta_x_down_s\n",
    "})\n",
    "\n",
    "table4 = pd.DataFrame({\n",
    "    'I, A': I_values_up_s,\n",
    "    'delta_x, divisions' : delta_x_up_s\n",
    "})"
   ]
  },
  {
   "cell_type": "markdown",
   "metadata": {},
   "source": [
    "**2) Калибровка гальванометра**\n",
    "\n",
    "Установим тумблер генератора тока на максимум и, замкнув ключ $П_1$, измерим значение тока $I_{max}\\ =\\ 1.712\\pm 0.001\\ А$. Измерим отклонение гавльванометра $\\Delta x_1\\ =\\ -17.1\\pm 0.05\\ см$, возникшее при изменении тока $\\Delta I_1\\ =\\ I_{max}$."
   ]
  },
  {
   "cell_type": "markdown",
   "metadata": {},
   "source": [
    "**3) Измерение начальной кривой намагничивания**\n",
    "\n",
    "3.1) Для начала размагнитим образец в цепи переменного тока.\n",
    "\n",
    "3.2) Вновь подключим тороид к цепи и снимем кривую начального намагничивания."
   ]
  },
  {
   "cell_type": "code",
   "execution_count": 2,
   "metadata": {
    "scrolled": true
   },
   "outputs": [
    {
     "name": "stdout",
     "output_type": "stream",
     "text": [
      "      I, A  delta_x, divisions\n",
      "0   1.7080                 0.0\n",
      "1   1.2080                -8.8\n",
      "2   0.8704                -8.5\n",
      "3   0.6231                -9.2\n",
      "4   0.4357                -8.9\n",
      "5   0.3514                -4.3\n",
      "6   0.3050                -2.8\n",
      "7   0.2765                -1.7\n",
      "8   0.2553                -1.4\n",
      "9   0.2348                -1.4\n",
      "10  0.2146                -1.4\n",
      "11  0.1936                -1.5\n",
      "12  0.1728                -1.6\n",
      "13  0.1218                -4.2\n",
      "14  0.0607                -5.6\n",
      "15  0.0000                -6.7\n",
      "16 -0.0000                 0.0\n",
      "17 -0.0609                -8.5\n",
      "18 -0.1224               -16.8\n",
      "19 -0.1738               -35.5\n",
      "20 -0.1945                -6.7\n",
      "21 -0.2157                -8.8\n",
      "22 -0.2356               -10.5\n",
      "23 -0.2563               -12.5\n",
      "24 -0.2774               -14.2\n",
      "25 -0.3057               -20.2\n",
      "26 -0.3519               -32.1\n",
      "27 -0.4363               -32.9\n",
      "28 -0.6233               -32.4\n",
      "29 -0.8704               -13.4\n",
      "..     ...                 ...\n",
      "34 -0.8703                 8.5\n",
      "35 -0.6228                 8.9\n",
      "36 -0.4353                 8.7\n",
      "37 -0.3507                 4.6\n",
      "38 -0.3014                 2.8\n",
      "39 -0.2760                 4.8\n",
      "40 -0.2548                 1.3\n",
      "41 -0.2343                 1.3\n",
      "42 -0.2142                 1.4\n",
      "43 -0.1932                 1.5\n",
      "44 -0.1762                 1.0\n",
      "45 -0.1216                 4.1\n",
      "46 -0.0607                 5.5\n",
      "47 -0.0000                 6.4\n",
      "48  0.0000                 0.0\n",
      "49  0.0608                 8.7\n",
      "50  0.1222                15.7\n",
      "51  0.1734                 9.8\n",
      "52  0.1942                 6.8\n",
      "53  0.2152                 8.8\n",
      "54  0.2352                10.2\n",
      "55  0.2559                13.3\n",
      "56  0.2770                14.8\n",
      "57  0.3053                21.4\n",
      "58  0.3512                33.6\n",
      "59  0.4360                34.5\n",
      "60  0.6237                32.5\n",
      "61  0.8702                13.4\n",
      "62  1.2072                15.1\n",
      "63  1.7086                12.0\n",
      "\n",
      "[64 rows x 2 columns]\n"
     ]
    }
   ],
   "source": [
    "I_values = pd.Series([0, 0.0623, 0.1258, 0.1779, 0.1985, 0.2196,\n",
    "                      0.2399, 0.262, 0.2814, 0.3097, 0.3556,\n",
    "                      0.4394, 0.626, 0.872, 1.2091, 1.7085])\n",
    "delta_x = pd.Series([6.5, 3.4, -2.9, -5.1, 0.1, -2.0,\n",
    "                     -1.6, -2.9, -3.0, -7.3, -16.4,\n",
    "                     -28.1, -27, -18.3, -17.8, -13.3])\n",
    "delta_x = initial_offset - delta_x\n",
    "\n",
    "table5 = pd.DataFrame({\n",
    "    'I, A': I_values,\n",
    "    'delta_x, divisions' : delta_x\n",
    "})\n",
    "\n",
    "result = pd.concat([table1, table2, table3, table4])\n",
    "result.index = pd.RangeIndex(len(result))\n",
    "\n",
    "print(result)"
   ]
  },
  {
   "cell_type": "markdown",
   "metadata": {},
   "source": [
    "**4) Дополнительные данные**\n",
    "\n",
    "Запишем параметры установки: $R_M\\ =\\ 120\\ Ом, R^{'}_{M}\\ =\\ R_M - R_C\\ =\\ 80\\ Ом$, сопротивление гальванометра - $R_0\\ =\\ 5.6\\ Ом$, размеры тороида - $d_T\\ =\\ 1\\ см, D\\ =\\ 10\\ см, N_{T_0}\\ =\\ 1750, N_{T_1}\\ =\\ 300$, параметры соленоида: $N_{C1}\\ =\\ 500\\ вит$, $N_{C0}\\ =\\ 940\\ вит$, $R_С\\ =\\ 40\\ Ом$, $l_С\\ =\\ 80\\ см$, $d_С\\ =\\ 7\\ см$"
   ]
  },
  {
   "cell_type": "code",
   "execution_count": 3,
   "metadata": {},
   "outputs": [
    {
     "name": "stdout",
     "output_type": "stream",
     "text": [
      "-1427.6994170057528\n"
     ]
    }
   ],
   "source": [
    "# Let's calculate H.\n",
    "N_T_0 = 1750\n",
    "pi = 3.14159265359\n",
    "D = 0.1\n",
    "\n",
    "H = N_T_0 / pi / D * result['I, A']\n",
    "\n",
    "# Let's calculate B.\n",
    "mu_0 = 1.25663706 * 10**(-6)\n",
    "d_C = 0.07\n",
    "d_T = 0.01\n",
    "N_C_0 = 940\n",
    "N_C_1 = 500\n",
    "N_T_1 = 300\n",
    "l_C = 0.8\n",
    "dI_1 = 1.712\n",
    "dx_1 = initial_offset + 0.171\n",
    "\n",
    "dB = mu_0 * (d_C/d_T)**2 * N_C_0/N_T_1 * N_C_1/l_C * dI_1/dx_1 * result['delta_x, divisions']\n",
    "\n",
    "B = list()\n",
    "for i in range(len(dB)):\n",
    "    B.append(dB[i])\n",
    "    if i > 0:\n",
    "        B[i] += B[i-1]\n",
    "B = [10.4814309136978/2 + i for i in B] # Center values.\n",
    "\n",
    "H1 = N_T_0 / pi / D * table5['I, A']\n",
    "dB1 = mu_0 * (d_C/d_T)**2 * N_C_0/N_T_1 * N_C_1/l_C * dI_1/dx_1 * table5['delta_x, divisions']\n",
    "\n",
    "B1 = list()\n",
    "for i in range(len(dB1)):\n",
    "    B1.append(dB1[i])\n",
    "    if i > 0:\n",
    "        B1[i] += B1[i-1]\n",
    "B1 = [i for i in B1] # Center values.\n",
    "\n",
    "print(H[23])"
   ]
  },
  {
   "cell_type": "code",
   "execution_count": 6,
   "metadata": {
    "scrolled": false
   },
   "outputs": [
    {
     "data": {
      "text/plain": [
       "<matplotlib.legend.Legend at 0x1dcbd3cc828>"
      ]
     },
     "execution_count": 6,
     "metadata": {},
     "output_type": "execute_result"
    },
    {
     "data": {
      "image/png": "[encoded data removed]",
      "text/plain": [
       "<Figure size 1080x1080 with 1 Axes>"
      ]
     },
     "metadata": {
      "needs_background": "light"
     },
     "output_type": "display_data"
    }
   ],
   "source": [
    "import math\n",
    "import numpy as np\n",
    "import matplotlib.pyplot as plt\n",
    "import matplotlib as mpl\n",
    "from scipy import interpolate\n",
    "\n",
    "mpl.rcParams['font.size'] = 16 # Change size font.\n",
    "# Create figure.\n",
    "plt.figure(figsize=(15, 15))\n",
    "\n",
    "# Sign axises and the graph.\n",
    "plt.title(\"График 1, $B\\ =\\ f(H)$\")\n",
    "plt.ylabel(\"$B, Тл$\", fontsize = 20)\n",
    "plt.xlabel(\"$H, А/м$\", fontsize = 20)\n",
    "\n",
    "plt.scatter(H, B)\n",
    "plt.scatter(H1, B1)\n",
    "\n",
    "# Calculate errors. As resistance is relatively accurate, psi is take into account.\n",
    "sigma_x_abs = pd.Series([0.05 for i in range(len(result))])\n",
    "sigma_x_rel = sigma_x_abs / result['delta_x, divisions']\n",
    "sigma_y_abs = pd.Series([0.0001 for i in range(len(result))])\n",
    "sigma_y_rel = sigma_x_abs / result['I, A']\n",
    "\n",
    "sigma_x_abs1 = pd.Series([0.05 for i in range(len(table5))])\n",
    "sigma_x_rel1 = sigma_x_abs1 / table5['delta_x, divisions']\n",
    "sigma_y_abs1 = pd.Series([0.0001 for i in range(len(table5))])\n",
    "sigma_y_rel1 = sigma_x_abs1 / table5['I, A']\n",
    "\n",
    "# Draw errors.\n",
    "plt.errorbar(H, B, xerr=sigma_x_rel, yerr=sigma_y_abs, fmt='.', label='Погрешности')\n",
    "plt.errorbar(H1, B1, xerr=sigma_x_rel1, yerr=sigma_y_abs1, fmt='.', label='Погрешности')\n",
    "\n",
    "# Activate grid.\n",
    "plt.grid(b=True, which='major', axis='both', alpha=1)\n",
    "\n",
    "# Activate legend.\n",
    "plt.legend()"
   ]
  },
  {
   "cell_type": "code",
   "execution_count": 7,
   "metadata": {
    "scrolled": true
   },
   "outputs": [
    {
     "name": "stdout",
     "output_type": "stream",
     "text": [
      "0        0.000000\n",
      "1      115.235841\n",
      "2      151.950506\n",
      "3      217.032904\n",
      "4      466.734358\n",
      "5      409.692313\n",
      "6      434.330683\n",
      "7      354.503396\n",
      "8      301.912792\n",
      "9      306.396645\n",
      "10     294.724392\n",
      "11     318.812444\n",
      "12     138.693832\n",
      "13     303.889308\n",
      "14     407.855831\n",
      "15            inf\n",
      "16       0.000000\n",
      "17     611.013984\n",
      "18    1444.952274\n",
      "19    7581.678208\n",
      "20    1397.160445\n",
      "21    1954.955768\n",
      "22    2242.468202\n",
      "23    2618.996377\n",
      "24    2218.243659\n",
      "25    1932.932703\n",
      "26    1681.395674\n",
      "27     777.788704\n",
      "28     579.668372\n",
      "29     175.941796\n",
      "         ...     \n",
      "34     151.827717\n",
      "35     209.843767\n",
      "36     454.628052\n",
      "37     412.494586\n",
      "38     487.339546\n",
      "39    1000.950766\n",
      "40     280.347593\n",
      "41     285.926649\n",
      "42     294.724392\n",
      "43     390.076402\n",
      "44      80.968240\n",
      "45     297.628081\n",
      "46     400.572691\n",
      "47            inf\n",
      "48       0.000000\n",
      "49     626.409335\n",
      "50    1355.617078\n",
      "51    2082.907965\n",
      "52    1431.518477\n",
      "53    1945.180989\n",
      "54    2178.397682\n",
      "55    2786.612145\n",
      "56    2311.972265\n",
      "57    2061.144443\n",
      "58    1751.663841\n",
      "59     812.572579\n",
      "60     582.872784\n",
      "61     175.785172\n",
      "62     133.137365\n",
      "63            NaN\n",
      "Length: 64, dtype: float64\n"
     ]
    }
   ],
   "source": [
    "dH = abs(H.diff(-1))\n",
    "dB = abs(dB)\n",
    "mu = 1/mu_0 * dB / dH\n",
    "\n",
    "print(mu)"
   ]
  },
  {
   "cell_type": "markdown",
   "metadata": {},
   "source": [
    "**5) Определение дополнительных величин**\n",
    "\n",
    "5.1) Найдём по графику коэрцитивную силу: $H_C = -1428 \\pm 3\\ \\frac{А}{м}$, индукцию насыщения: $B_S = 7.42\\pm 0.06\\ или\\ 5.24 \\pm 0.04\\ Тл$.\n",
    "\n",
    "5.2) Определим максимальное значение дифференциальной магнитной проницаемости для начальной кривой намагничивания: $\\mu_{диф} = (7.58 \\pm 0.06) \\cdot 10^3$\n",
    "\n",
    "5.3) Сравним результаты с табличными. Данные из интернета: ?"
   ]
  },
  {
   "cell_type": "markdown",
   "metadata": {},
   "source": [
    "5.4) Оценим погрешности. Отметим, что существенные погрешности были только у измерения отклонения зайчика и силы тока (измерялась цифровым амперметром, максимальная $\\sigma_{I,отн} = \\frac{0.0001}{I_{min}} = 0.002$), остальные величины были даны с большой точностью. Таким образом, максимальная $\\sigma_{\\Delta x} = \\frac{0.05}{\\Delta x_{min}} = 0.008$. Заметим, что в $H$ и $B$ ток и отклонения входят в первой степени, поэтому относительные погрешности будут такими же."
   ]
  }
 ],
 "metadata": {
  "kernelspec": {
   "display_name": "Python 3",
   "language": "python",
   "name": "python3"
  },
  "language_info": {
   "codemirror_mode": {
    "name": "ipython",
    "version": 3
   },
   "file_extension": ".py",
   "mimetype": "text/x-python",
   "name": "python",
   "nbconvert_exporter": "python",
   "pygments_lexer": "ipython3",
   "version": "3.7.3"
  }
 },
 "nbformat": 4,
 "nbformat_minor": 2
}
