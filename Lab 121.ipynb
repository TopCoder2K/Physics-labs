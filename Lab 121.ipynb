{
 "cells": [
  {
   "cell_type": "markdown",
   "metadata": {},
   "source": [
    "## Лабораторная работа № 121\n",
    "### \"Измерение магнитного поля Земли\"\n",
    "\n",
    "**Цель работы:** определить характеристики шарообразных неодимовых магнитов и, используя\n",
    "законы взаимодействия магнитных моментов с полем, измерить горизонтальную и вертикальную\n",
    "составляющие индукции магнитного поля Земли и магнитное наклонение.\n",
    "\n",
    "**В работе используются:** $12$ одинаковых неодимовых магнитных шариков, тонкая нить для\n",
    "изготовления крутильного маятника, медная проволока диаметром $(0,5 – 0,6)\\ мм$, электронные весы,\n",
    "секундомер, измеритель магнитной индукции АТЕ-8702, штангенциркуль, брусок из немагнитного\n",
    "материала $(25 \\times 30 \\times 60\\  мм^3)$, деревянная линейка, штатив из немагнитного материала;\n",
    "дополнительные неодимовые магнитные шарики $(\\sim 20 шт.)$ и неодимовые магниты в форме параллелепипедов $(2 шт.)$, набор гирь и разновесов."
   ]
  },
  {
   "cell_type": "markdown",
   "metadata": {},
   "source": [
    "**Рабочие формулы**: \n",
    "\n",
    "1) $F = -6 \\frac{P_m^2}{r^4}$ - сила взаимодействия двух небольших постоянных магнитов с магнитным моментом $P_m$;\n",
    "\n",
    "2) $P_m = \\sqrt{\\frac{mgr_{max}^4}{6}}$ - формула для определения магнитного момента небольших постоянных магнитов; \n",
    "\n",
    "3) $T = 2 \\pi \\sqrt{\\frac{I_n}{n P_m B_h}}$ - формула для измерения периода крутильных колебаний $n$ магнитов для определения горизонтальной составляющей магнитного поля, где $I_n = 1/12n^3md^2$ - момент инерции \"стрелки\" из $n$ шаров; \n",
    "\n",
    "4) $B_\\upsilon = \\frac{m_{гр}gr_{гр}}{nP_m}$ - формула для определения вертикальной составляющей индукции магнитного поля Земли.\n",
    "\n",
    "**Схема установки и описание работы**: https://mipt.ru/education/chair/physics/S_III/lab_el/121_%D0%BF%D0%BE%D0%BB%D0%B5_%D0%97%D0%B5%D0%BC%D0%BB%D0%B8.pdf"
   ]
  },
  {
   "cell_type": "markdown",
   "metadata": {},
   "source": [
    "**Метод A**"
   ]
  },
  {
   "cell_type": "code",
   "execution_count": null,
   "metadata": {
    "scrolled": true
   },
   "outputs": [],
   "source": [
    "from IPython.display import Image\n",
    "Image(\"metod_a.png\")\n"
   ]
  },
  {
   "cell_type": "markdown",
   "metadata": {},
   "source": [
    "**Метод B**"
   ]
  },
  {
   "cell_type": "code",
   "execution_count": null,
   "metadata": {},
   "outputs": [],
   "source": [
    "from IPython.display import Image\n",
    "Image(\"method_b.png\")\n"
   ]
  },
  {
   "cell_type": "markdown",
   "metadata": {},
   "source": [
    "**Задание 2**"
   ]
  },
  {
   "cell_type": "code",
   "execution_count": null,
   "metadata": {},
   "outputs": [],
   "source": [
    "from IPython.display import Image\n",
    "Image(\"task_2.png\")\n"
   ]
  },
  {
   "cell_type": "markdown",
   "metadata": {},
   "source": [
    "**Задание 3**"
   ]
  },
  {
   "cell_type": "code",
   "execution_count": null,
   "metadata": {},
   "outputs": [],
   "source": [
    "from IPython.display import Image\n",
    "Image(\"task_3.png\")\n"
   ]
  },
  {
   "cell_type": "markdown",
   "metadata": {},
   "source": [
    "### Задание № 1\n",
    "**Определение магнитного момента, намагниченности и остаточной магнитной\n",
    "индукции вещества магнитных шариков (метод A)**\n",
    "\n",
    "1.1) Измерим массы шариков: $ (1.2804 \\pm 0.0001) \\times 10^1г$ - для $15$ штук $\\implies\\ m = (8.536 \\pm 0.001) \\times 10^{-1} г$ \n",
    "\n",
    "1.2) Измерим диаметры 10 шариков и усредним значение:\n",
    "        \\<d\\>\n"
   ]
  },
  {
   "cell_type": "code",
   "execution_count": 1,
   "metadata": {},
   "outputs": [
    {
     "name": "stdout",
     "output_type": "stream",
     "text": [
      "                  0    1     2     3     4     5     6     7    8     9\n",
      "Diameters, mm  5.87  6.0  5.96  5.95  5.89  5.98  6.01  5.99  5.9  5.88\n"
     ]
    }
   ],
   "source": [
    "import pandas as pd\n",
    "\n",
    "diameters = pd.Series([5.87, 6, 5.96, 5.95, 5.89, 5.98, 6.01, 5.99, 5.9, 5.88])\n",
    "\n",
    "table1 = pd.DataFrame({\n",
    "    'Diameters, mm': diameters\n",
    "}).T\n",
    "print(table1)\n",
    "\n",
    "# Среднее значение\n",
    "d_mm = round(diameters.mean(axis=0), 2)\n",
    "\n",
    "# подсчёт стандартного отклонения\n",
    "def std_devivation(values):   \n",
    "    return sum( (values - values.mean())**2 )**(1/2) / (values.size - 1)\n",
    "# конец подсчёта станд. отклонения\n",
    "\n",
    "# точность\n",
    "precision = 2\n",
    "sigma_rand_d = round( std_devivation(diameters) , precision)\n",
    "sigma_instr_d = 0.005\n",
    "\n",
    "sigma_d_mm = (sigma_rand_d**2 + sigma_instr_d**2)**(1/2)\n",
    "\n",
    "# print(sigma_d_mm)"
   ]
  },
  {
   "cell_type": "markdown",
   "metadata": {},
   "source": [
    "Диаметр: $d = 5.94 \\pm 0.02$ мм\n",
    "\n",
    "1.3) Рассчитаем значение магнитного момента шариков: $P_m = \\sqrt{\\frac{mgr_{max}^4}{6}} = (4.8 \\pm 0.1)  \\times  10  \\frac{эрг}{Гс}$, где \n",
    "\n",
    "$m = (8.536 \\pm 0.001) \\times 10^{-1} г$, $r_{max} = 2.020 \\pm 0.005\\ cм$, $g = 9.8152 \\pm 0.0001 \\frac{м}{с^2}$\n",
    "\n",
    "1.4) Рассчитаем величину намагниченности материала шариков: $p_m = \\frac{P_m}{V} = (4.39 \\pm 0.1) \\times 10^{2}  \\frac{эрг}{Гс \\cdot см^3}$ \n",
    "\n",
    "1.5) Рассчитаем величину магнитного поля на полюсах шариков и сравним её с измеренным магнитометром: $B_p = \\frac{2P_m}{R^3} = (3.6 \\pm 0.1) \\times 10^{3}\\ Гс$; \n",
    "\n",
    "измеренное значение: $B_p = (3.2\\pm 0.2)\\times 10^{-1}\\ Тл\\ =\\ (3.2 \\pm 0.2) \\times 10^3\\ Гс$ (погрешность 5%).\n",
    "\n",
    "1.6) Рассчитаем величину остаточной магнитной индукции материала шариков и сравним его с табличным значением: $B_r = 4 \\pi p_m = (5.5 \\pm 0.1) \\times 10^3\\ Гс$; \n",
    "\n",
    "табличное значение: $B_r = (1.3 \\pm 0.1) \\times 10^3\\ Гс$, т.е. результаты различаются какого-то чёрта в 5 раз."
   ]
  },
  {
   "cell_type": "code",
   "execution_count": 2,
   "metadata": {},
   "outputs": [
    {
     "name": "stdout",
     "output_type": "stream",
     "text": [
      "P_m =  48.217411677894745\n",
      "sigma_p_m 1.1935137574669632\n",
      "small_p_m 439.38571808127784\n",
      "sigma_small_p_m 11.79900921893776\n",
      "B_p =  3680.989184043782\n",
      "sigma_B_p =  98.84714848494163\n",
      "B_r = 5521.483776065674\n",
      "sigma_B_r = 148.27072272741245\n"
     ]
    }
   ],
   "source": [
    "m = 0.8536\n",
    "sigma_m = 0.0001\n",
    "r = 2.02\n",
    "sigma_r = 0.05\n",
    "g = 981.52\n",
    "sigma_g = 0.01\n",
    "\n",
    "p_m = (m * g * r**4 / 6)**(1/2)\n",
    "print('P_m = ', p_m)\n",
    "\n",
    "sigma_p_m = p_m * ( (sigma_m / m)**2 + (sigma_r / r)**2 + (sigma_g / g)**2 )**(1/2)\n",
    "print('sigma_p_m', sigma_p_m)\n",
    "\n",
    "\n",
    "d = d_mm / 10\n",
    "sigma_d = sigma_d_mm / 10\n",
    "from math import pi\n",
    "small_p_m = p_m / (4 / 3 * pi * (d/2)**3)\n",
    "print('small_p_m', small_p_m)\n",
    "\n",
    "sigma_small_p_m = small_p_m * ( (sigma_p_m / p_m)**2 + 3**2 * (sigma_d / d)**2 )**(1/2)\n",
    "print('sigma_small_p_m', sigma_small_p_m)\n",
    "\n",
    "\n",
    "B_p = 2 * p_m / (d / 2)**3\n",
    "print('B_p = ', B_p)\n",
    "\n",
    "sigma_B_p = B_p * ((sigma_p_m / p_m)**2 + 3**2 * (sigma_d / d)**2)**(1/2)\n",
    "print('sigma_B_p = ', sigma_B_p)\n",
    "\n",
    "\n",
    "B_r = 4 * pi * small_p_m\n",
    "print('B_r =', B_r)\n",
    "\n",
    "sigma_B_r = B_r * ( sigma_small_p_m / small_p_m )\n",
    "print('sigma_B_r =', sigma_B_r)\n",
    "\n",
    "## del sigma_r, sigma_g, small_p_m, sigma_small_p_m"
   ]
  },
  {
   "cell_type": "markdown",
   "metadata": {},
   "source": [
    "**Определение магнитного момента, намагниченности и остаточной магнитной\n",
    "индукции вещества магнитных шариков (метод B)**\n",
    "\n",
    "2.1) Измерим минимальный вес $F$ системы цепочки с гирей, при котором она отрывается от верхнего шарика: $m = (4.14185 \\pm 0.00001) \\times 10^{2} г$\n",
    "Т.е. $F = m \\cdot g = (4.06530 \\pm 0.00005) \\times 10^5\\ дин$\n",
    "\n",
    "2.2) По формуле $F_0 = F / 1.08$ определим силу сцепления двух шаров: $F_0 = (3.76417 \\pm 0.00004)\\times 10^5\\ дин$\n",
    "\n",
    "2.3) Определим магнитный момент шарика $P_m$, оценим погрешность результата: $P_m = \\sqrt{\\frac{F_0 d^{4}}{6}} = (8.84 \\pm 0.01) \\times 10\\ \\frac{эрг}{Гс}$\n",
    "\n",
    "2.4) Величина поля на полюсах: $B_p = (6.74 \\pm 0.03) \\times 10^{3} Гс$\n",
    "\n",
    "2.5) Сравним результаты, полученные разными методами: различаются в 2 раза..."
   ]
  },
  {
   "cell_type": "code",
   "execution_count": 3,
   "metadata": {},
   "outputs": [
    {
     "name": "stdout",
     "output_type": "stream",
     "text": [
      "406530.8612\n",
      "4.256559988171199\n",
      "376417.46407407406\n",
      "3.941259248306666\n",
      "P_m = 88.3755535440185\n",
      "sigma_P_m = 0.30672003383538987\n",
      "B_p = 6746.721680179948\n",
      "sigma_B_p 33.114393163348524\n"
     ]
    }
   ],
   "source": [
    "M = 414.185\n",
    "sigma_M = 0.001\n",
    "\n",
    "F = M * g\n",
    "print(F)\n",
    "\n",
    "sigma_F = F * ( (sigma_M / M)**2 + (sigma_g / g)**2 )**(1/2)\n",
    "print(sigma_F)\n",
    "\n",
    "F_0 = F / 1.08\n",
    "print(F_0)\n",
    "\n",
    "sigma_F_0 = sigma_F / 1.08\n",
    "print(sigma_F_0)\n",
    "\n",
    "P_m = (F_0 * d**4 / 6)**(1/2)\n",
    "print('P_m =', P_m)\n",
    "\n",
    "sigma_P_m = P_m * ( (sigma_F_0 / F_0)**2 + (sigma_d / d)**2 )**(1/2)\n",
    "print('sigma_P_m =', sigma_P_m)\n",
    "\n",
    "B_p = 2 * P_m / (d / 2)**3\n",
    "print('B_p =', B_p)\n",
    "\n",
    "sigma_B_p = B_p * ( (sigma_P_m / P_m)**2 + (sigma_d / d)**2 )**(1/2)\n",
    "print('sigma_B_p', sigma_B_p)"
   ]
  },
  {
   "cell_type": "markdown",
   "metadata": {},
   "source": [
    "### Задание № 2\n",
    "**Определение горизонтальной составляющей магнитного поля Земли**\n",
    "\n",
    "2.1) Возбудим крутильные колебания \"стрелки\", свёрнутой в кольцо, чтобы оценить влияние упругости нити. Измерим величину периода крутильных колебаний, чтобы сделать вывод о вкладе: $35.0 \\pm 0.3\\ с$ для $5$ колебаний. Погрешность взята, исходя из скорости реакции измеряющего.\n",
    "\n",
    "2.2) Исследуем зависимость периода $T$ крутильных колебаний «стрелки» от количества магнитных шариков $n$, где $n \\in [3, 12]$, составляющих «стрелку» и построим график $T = T(n)$"
   ]
  },
  {
   "cell_type": "code",
   "execution_count": 4,
   "metadata": {},
   "outputs": [
    {
     "name": "stdout",
     "output_type": "stream",
     "text": [
      "          0      1      2      3      4      5      6      7      8      9\n",
      "N      3.00   4.00   5.00   6.00   7.00   8.00   9.00  10.00  11.00  12.00\n",
      "t, с  19.70  26.30  31.60  36.20  46.10  52.10  56.52  61.00  60.00  60.50\n",
      "n     30.00  30.00  30.00  30.00  30.00  30.00  30.00  27.00  26.00  24.00\n",
      "T, с   0.66   0.88   1.05   1.21   1.54   1.74   1.88   2.26   2.31   2.52\n"
     ]
    }
   ],
   "source": [
    "number_of_balls = pd.Series([3, 4, 5, 6, 7, 8, 9, 10, 11, 12])\n",
    "times = pd.Series([19.7, 26.3, 31.6, 36.2, 46.1, 52.1, 56.52, 61.0, 60.0, 60.5])\n",
    "number_of_vibrations = pd.Series([30, 30, 30, 30, 30, 30, 30, 27, 26, 24])\n",
    "periods = round(times / number_of_vibrations, 2)\n",
    "\n",
    "## Зависимость сдвига фаз между током и напряжением от  𝑅  в  𝑅𝐿 -цепи.\n",
    "table2 = pd.DataFrame({\n",
    "    'N' : number_of_balls,\n",
    "    't, с' : times,\n",
    "    'n' : number_of_vibrations,\n",
    "    'T, с' : periods\n",
    "})\n",
    "\n",
    "print(table2.T)"
   ]
  },
  {
   "cell_type": "code",
   "execution_count": 5,
   "metadata": {},
   "outputs": [
    {
     "name": "stdout",
     "output_type": "stream",
     "text": [
      "0.010699524465579308\n"
     ]
    }
   ],
   "source": [
    "sigma_t = 0.3\n",
    "\n",
    "sigma_T = periods.mean() * sigma_t / times.mean()\n",
    "print(sigma_T)"
   ]
  },
  {
   "cell_type": "code",
   "execution_count": 6,
   "metadata": {},
   "outputs": [
    {
     "name": "stdout",
     "output_type": "stream",
     "text": [
      "{'b': 0.21218181818181825, 'a': 0.013636363636363225, 'sigma_b': 0.0019007900343858308, 'sigma_a': 0.00545960371522229}\n"
     ]
    }
   ],
   "source": [
    "# МНК\n",
    "\n",
    "def mnk_method(val_x, val_y):\n",
    "    '''\n",
    "    Принимает Series точек по x и Series по y (равны)\n",
    "    Возвращает list из b, a, sigma_b, sigma_a\n",
    "    '''\n",
    "    b = ( (val_x * val_y).mean() - val_x.mean() * val_y.mean() )/( (val_x**2).mean() - val_x.mean()**2 )\n",
    "    \n",
    "    a = val_y.mean() - b * val_x.mean()\n",
    "    \n",
    "    sigma_b = 1 / val_x.size * ( ( (val_y**2).mean() - val_y.mean()**2 ) / \\\n",
    "                           ( (val_x**2).mean() - val_x.mean()**2 ) - b**2 )**(1/2)\n",
    "    \n",
    "    sigma_a = sigma_b * ( (val_x**2).mean() - val_x.mean()**2 )**(1/2)\n",
    "    \n",
    "    return {'b' : b, 'a' : a, 'sigma_b' : sigma_b, 'sigma_a' : sigma_a}\n",
    "\n",
    "res_val = mnk_method(number_of_balls, periods)\n",
    "val_x = number_of_balls\n",
    "val_y = periods\n",
    "\n",
    "print(res_val)"
   ]
  },
  {
   "cell_type": "code",
   "execution_count": 8,
   "metadata": {},
   "outputs": [
    {
     "data": {
      "text/plain": [
       "<matplotlib.legend.Legend at 0x16c67259dd8>"
      ]
     },
     "execution_count": 8,
     "metadata": {},
     "output_type": "execute_result"
    },
    {
     "data": {
      "image/png": "[encoded data removed]",
      "text/plain": [
       "<Figure size 720x504 with 1 Axes>"
      ]
     },
     "metadata": {
      "needs_background": "light"
     },
     "output_type": "display_data"
    }
   ],
   "source": [
    "import numpy as np\n",
    "import matplotlib.pyplot as plt\n",
    "import matplotlib as mpl\n",
    "mpl.rcParams['font.size'] = 16 # Управление стилем, в данном случаем - размером шрифта \n",
    " # Создаем фигуру\n",
    "plt.figure(figsize=(10,7))\n",
    "\n",
    "# Подписываем оси и график\n",
    "plt.title(r\"График зав-ти периода T от числа шариков N\")\n",
    "plt.ylabel(\"Период, с\")\n",
    "plt.xlabel(r\"Число шариков\")\n",
    "\n",
    "\n",
    "\n",
    "# Добавляем данные\n",
    "x = np.linspace(val_x.min(), val_x.max(), 100)\n",
    "y = res_val['b'] * x + res_val['a']\n",
    "plt.plot(x,y, label=\"Прямая по МНК\")\n",
    "\n",
    "# Еще данные\n",
    "x2 = val_x\n",
    "y2 = val_y\n",
    "plt.plot(x2, y2, 'r^', label='Исходные точки')\n",
    "\n",
    "# Данные с ошибками\n",
    "plt.errorbar(x2, y2, yerr=0.01, xerr=0.0, fmt='.', label='Погрешность') \n",
    "\n",
    "# Активируем сетку\n",
    "plt.grid(b=True, which='major', axis='both', alpha=1)\n",
    "plt.grid(b=True, which='minor', axis='both', alpha=0.5)\n",
    "\n",
    "# Активируем легенду графика\n",
    "plt.legend()"
   ]
  },
  {
   "cell_type": "markdown",
   "metadata": {},
   "source": [
    "2.3) Аппроксимируем эксперементальную зависимость прямой $T = kn$ и рассчитаем значение $B_h$."
   ]
  },
  {
   "cell_type": "code",
   "execution_count": 9,
   "metadata": {},
   "outputs": [
    {
     "name": "stdout",
     "output_type": "stream",
     "text": [
      "0.45644195864503134\n",
      "0.0043854134562087725\n"
     ]
    }
   ],
   "source": [
    "from math import pi\n",
    "B_h = pi**2 * m * d**2 / (3 * res_val['b']**2 * p_m)\n",
    "print(B_h)\n",
    "\n",
    "sigma_B_h = B_h * ( (sigma_m / m)**2 + (sigma_d / d)**2 + (res_val['sigma_b'] / res_val['b'])**2 )**(1/2)\n",
    "print(sigma_B_h)"
   ]
  },
  {
   "cell_type": "markdown",
   "metadata": {},
   "source": [
    "Горизонтальная составляющая магнитного поля Земли: $B_h = (4.56 \\pm 0.04) \\times 10^{-1}\\ Гс$"
   ]
  },
  {
   "cell_type": "markdown",
   "metadata": {},
   "source": [
    "## Задание № 3\n",
    "**Определение вертикальной составляющей магнитного поля Земли**\n",
    "\n",
    "3.1) Определим массу уравновешивающего груза при чётных $n$, где $n \\in [4, 12]$.\n",
    "\n",
    "3.2) Рассчитаем механический момент сил $M$, действующих на горизонтальную «стрелку» со стороны поля Земли для разных n, и построим график $M = M(n)$\n",
    "\n",
    "Масса в граммах, плечо в мм, погрешности соотв."
   ]
  },
  {
   "cell_type": "code",
   "execution_count": 10,
   "metadata": {},
   "outputs": [
    {
     "name": "stdout",
     "output_type": "stream",
     "text": [
      "                      0          1           2           3           4\n",
      "N             10.000000   4.000000    6.000000    8.000000   12.000000\n",
      "m, г           0.149000   0.093000    0.097000    0.130000    0.130000\n",
      "n              3.000000   1.000000    2.000000    3.000000    4.000000\n",
      "M, дин * см  260.611227  54.221128  113.106439  227.378923  303.171898\n"
     ]
    }
   ],
   "source": [
    "number_of_balls = pd.Series([10, 4, 6, 8, 12])\n",
    "masses_g = pd.Series([0.149, 0.093, 0.097, 0.130, 0.130])\n",
    "arm_balls = pd.Series([3, 1, 2, 3, 4])\n",
    "\n",
    "masses = masses_g\n",
    "moments = masses * g * arm_balls * d\n",
    "\n",
    "table3 = pd.DataFrame({\n",
    "    'N' : number_of_balls,\n",
    "    'm, г' : masses,\n",
    "    'n' : arm_balls,\n",
    "    'M, дин * см' : moments\n",
    "})\n",
    "\n",
    "print(table3.T)"
   ]
  },
  {
   "cell_type": "code",
   "execution_count": 11,
   "metadata": {},
   "outputs": [
    {
     "name": "stdout",
     "output_type": "stream",
     "text": [
      "sigma_m =  0.001 \n",
      " sigma_moments =  1.7329520423926155\n"
     ]
    }
   ],
   "source": [
    "sigma_m = 0.001\n",
    "\n",
    "sigma_moments = moments.mean() * ( (sigma_m / masses.mean())**2 + (sigma_g / g)**2 + (sigma_d / d)**2 )**(1/2)\n",
    "print(\"sigma_m = \", sigma_m, \"\\n\", \"sigma_moments = \", sigma_moments)"
   ]
  },
  {
   "cell_type": "markdown",
   "metadata": {},
   "source": [
    "3.3) Аппроксимируем эксперементальную зависимость прямой $M = An$."
   ]
  },
  {
   "cell_type": "code",
   "execution_count": 12,
   "metadata": {},
   "outputs": [
    {
     "data": {
      "text/plain": [
       "<matplotlib.legend.Legend at 0x16c6831fa20>"
      ]
     },
     "execution_count": 12,
     "metadata": {},
     "output_type": "execute_result"
    },
    {
     "data": {
      "image/png": "[encoded data removed]",
      "text/plain": [
       "<Figure size 720x504 with 1 Axes>"
      ]
     },
     "metadata": {
      "needs_background": "light"
     },
     "output_type": "display_data"
    }
   ],
   "source": [
    "res_val_1 = mnk_method(number_of_balls, moments)\n",
    "val_x = number_of_balls\n",
    "val_y = moments\n",
    "\n",
    "import numpy as np\n",
    "import matplotlib.pyplot as plt\n",
    "import matplotlib as mpl\n",
    "mpl.rcParams['font.size'] = 16 \n",
    " # Создаем фигуру\n",
    "plt.figure(figsize=(10,7))\n",
    "\n",
    "# Подписываем оси и график\n",
    "plt.title(r\"График зависимости $M = M(N)$\")\n",
    "plt.ylabel(\"Момент силы тяжести, дин \\cdot см$\")\n",
    "plt.xlabel(r\"Число шариков\")\n",
    "\n",
    "\n",
    "\n",
    "# Добавляем данные\n",
    "x = np.linspace(val_x.min(), val_x.max(), 100)\n",
    "y = res_val_1['b'] * x + res_val_1['a']\n",
    "plt.plot(x,y, label=\"Прямая по МНК\")\n",
    "\n",
    "# Еще данные\n",
    "x2 = val_x\n",
    "y2 = val_y\n",
    "plt.plot(x2, y2, 'r^', label='Исходные точки')\n",
    "\n",
    "# Данные с ошибками\n",
    "plt.errorbar(x2, y2, yerr=2, xerr=0.0, fmt='.', label='Погрешность') \n",
    "\n",
    "# Активируем сетку\n",
    "plt.grid(b=True, which='major', axis='both', alpha=1)\n",
    "\n",
    "# Активируем легенду графика\n",
    "plt.legend()"
   ]
  },
  {
   "cell_type": "code",
   "execution_count": 17,
   "metadata": {},
   "outputs": [
    {
     "name": "stdout",
     "output_type": "stream",
     "text": [
      "B_v = 0.36514980799443214\n",
      "sigma_B_v = 0.01552606461927761\n",
      "B_0 = 0.5845285655039308\n",
      "sigma_B_0 = 0.016133522050187334\n",
      "beta =  0.6747359206988535\n",
      "sigma_beta = 0.05193378487760213\n"
     ]
    }
   ],
   "source": [
    "B_v = res_val_1['b'] / P_m\n",
    "print(\"B_v =\", B_v)\n",
    "\n",
    "sigma_B_v = B_v * ( (res_val_1['sigma_b'] / res_val_1['b'])**2 + (sigma_P_m / P_m)**2 )**(1/2)\n",
    "print(\"sigma_B_v =\", sigma_B_v)\n",
    "\n",
    "B_0 = ( (B_v)**2 + (B_h)**2 )**(1/2)\n",
    "print(\"B_0 =\", B_0)\n",
    "\n",
    "sigma_B_0 = ( sigma_B_v**2 + sigma_B_h**2 )**(1/2)\n",
    "print(\"sigma_B_0 =\", sigma_B_0)\n",
    "\n",
    "from math import asin\n",
    "beta = asin(B_v / B_0)\n",
    "print(\"beta = \", beta)\n",
    "\n",
    "sigma_beta = 1/(1 - (B_v / B_0)**2) * ( (1/B_0 * sigma_B_v)**2 + (B_v/B_0**2 * sigma_B_0)**2 )**(1/2)\n",
    "print(\"sigma_beta =\", sigma_beta)"
   ]
  },
  {
   "cell_type": "markdown",
   "metadata": {},
   "source": [
    "3.4) Рассчитаем значение $B_\\upsilon$: $B_\\upsilon = 0.37 \\pm 0.01\\ Гс$\n",
    "\n",
    "3.5) Определим магнитное наклонение $\\beta$ и полную величину индукции магнитного поля Земли на широте Долгопрудного $B_0$: $B_0 = \\sqrt{B^2_{\\upsilon} + B^2_h} = (5.8 \\pm 0.1) \\times 10^{-1}\\ Гс$; \n",
    "\n",
    "$\\beta = \\arcsin{\\frac{B_\\upsilon}{B_0}} = (6.7 \\pm 0.5) \\times 10^{-1}\\ рад$.\n",
    "\n",
    "3.6) Сравним полученное значение наклонения с расчётным: широта $\\phi$ связана с наклонением $\\beta$ как $\\phi = \\frac{\\pi}{2} - \\beta$. По нашим данным, $\\phi = 52.9^{\\circ}$, т.е. почти совпадает.\n",
    "\n",
    "3.7) Оцените также полный магнитный момент $P_З$ Земли: $P_З = p_З \\cdot V = \\frac{3B_p}{8\\pi} \\cdot \\frac{4\\pi}{3}R_З^3 = 7.52 \\times 10^{25}\\ Гс \\cdot см^3$, так как $B_p = B_0$\n",
    "\n",
    "3.8) Сравним полученные результаты со справочными данными: 1) Поле не нашли 2) Магнитный дипольный момент Земли на 2015 год составлял $7.72 \\cdot 10^{25}\\ Гс \\cdot см^3$, т.е. значения почти совпадают."
   ]
  },
  {
   "cell_type": "code",
   "execution_count": 18,
   "metadata": {},
   "outputs": [
    {
     "name": "stdout",
     "output_type": "stream",
     "text": [
      "P_z = 7.5187750389000805e+25\n"
     ]
    }
   ],
   "source": [
    "P_z = B_0 / 2 * (6360 * 1000 * 100)**3\n",
    "print(\"P_z =\", P_z)"
   ]
  },
  {
   "cell_type": "code",
   "execution_count": null,
   "metadata": {},
   "outputs": [],
   "source": []
  }
 ],
 "metadata": {
  "kernelspec": {
   "display_name": "Python 3",
   "language": "python",
   "name": "python3"
  },
  "language_info": {
   "codemirror_mode": {
    "name": "ipython",
    "version": 3
   },
   "file_extension": ".py",
   "mimetype": "text/x-python",
   "name": "python",
   "nbconvert_exporter": "python",
   "pygments_lexer": "ipython3",
   "version": "3.7.3"
  }
 },
 "nbformat": 4,
 "nbformat_minor": 2
}
